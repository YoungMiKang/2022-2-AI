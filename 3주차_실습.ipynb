{
  "nbformat": 4,
  "nbformat_minor": 0,
  "metadata": {
    "colab": {
      "provenance": [],
      "collapsed_sections": [],
      "authorship_tag": "ABX9TyPoAZg5i5YE5WxlpVgPQwbg",
      "include_colab_link": true
    },
    "kernelspec": {
      "name": "python3",
      "display_name": "Python 3"
    },
    "language_info": {
      "name": "python"
    }
  },
  "cells": [
    {
      "cell_type": "markdown",
      "metadata": {
        "id": "view-in-github",
        "colab_type": "text"
      },
      "source": [
        "<a href=\"https://colab.research.google.com/github/YoungMiKang/2022-2-AI/blob/master/3%EC%A3%BC%EC%B0%A8_%EC%8B%A4%EC%8A%B5.ipynb\" target=\"_parent\"><img src=\"https://colab.research.google.com/assets/colab-badge.svg\" alt=\"Open In Colab\"/></a>"
      ]
    },
    {
      "cell_type": "code",
      "execution_count": null,
      "metadata": {
        "colab": {
          "base_uri": "https://localhost:8080/"
        },
        "id": "gjRDfocaPRgT",
        "outputId": "c1bb8861-b3bd-411d-f7b1-9eb5aeff580f"
      },
      "outputs": [
        {
          "output_type": "stream",
          "name": "stdout",
          "text": [
            "1+2+...+10000000= 5000000050000000\n",
            "소요 시간은 14.258877992630005 초입니다.\n"
          ]
        }
      ],
      "source": [
        "import time\n",
        "\n",
        "start = time.time()\n",
        "sum = 0\n",
        "for i in range(1, 100000001):\n",
        "  sum = sum + i\n",
        "\n",
        "end = time.time()\n",
        "\n",
        "print('1+2+...+10000000=', sum)\n",
        "print('소요 시간은', end-start, '초입니다.')"
      ]
    },
    {
      "cell_type": "code",
      "source": [
        "from datetime import datetime\n",
        "import random\n",
        "\n",
        "wording = [\"상대 팀을 이겼습니다.\", \"상대를 대상으로 통쾌한 승리를 거머쥐었습니다.\", \"상대 팀을 꺾었습니다.\"]\n",
        "\n",
        "# 경기 결과 입력 받는 곳\n",
        "place = input(\"경기가 열린 곳은? \")\n",
        "time = input(\"경기가 열린 시간은? \")\n",
        "opponent = input(\"상대 팀은? \")\n",
        "goals = input(\"손흥민은 몇 골을 넣었나요? \")\n",
        "aids = input(\"도움은 몇 개인가요? \")\n",
        "score_me = input(\"손흥민 팀이 넣은 골 수는?\")\n",
        "score_you = input(\"상대 팀이 넣은 골 수는?\")\n",
        "\n",
        "# 기사 작성하는 곳\n",
        "news = \"[프리미어 리그 속보(\" + str(datetime.now()) + \")]\\n\"\n",
        "news = news + \"손흥민 선수는 \" + place + \"에서 \" + time + \"에 열린 경기에 출전하였습니다. \"\n",
        "news = news + \"상대 팀은 \" + opponent + \"입니다. \"\n",
        "\n",
        "if score_me > score_you:\n",
        "  news = news + \"손흥민 선수의 팀이 \" + score_me + \"골을 넣어 \" + score_you + \"골을 넣은 \" + random.choice(wording)\n",
        "elif score_me < score_you:\n",
        "  news = news + \"손흥민 선수의 팀이 \" + score_me + \"골을 넣어 \" + score_you  + \"골을 넣은 상대팀에게 졌습니다. \"\n",
        "else:\n",
        "  news = news + \"두 팀은 \" + score_me + \"대\" + score_you + \"로 비겼습니다.\"\n",
        "\n",
        "if int(goals)>0 and int(aids)>0:\n",
        "  news = news + \"손흥민 선수는 \" + goals + \"골에 도움 \" + aids + \"개로 승리를 크게 이끌었습니다.\"\n",
        "elif int(goals)>0 and int(aids)==0:\n",
        "  news = news + \"손흥민 선수는 \" + goals + \"골로 승리를 이끌었습니다. \"\n",
        "elif int(goals)==0 and int(aids)>0:\n",
        "  news = news + \"손흥민 선수는 골은 없지만 도움 \" + aids + \"개로 승리하는 데 공헌하였습니다.\"\n",
        "else:\n",
        "  news = news + \"아쉽게도 이번 경기에서 손흥민의 발끝은 침묵을 지켰습니다.\"\n",
        "\n",
        "print(news)\n",
        "\n",
        "# 음성으로 들려주는 곳\n",
        "!pip install gtts playsound\n",
        "from gtts import gTTS\n",
        "import playsound\n",
        "\n",
        "tts = gTTS(text = news, lang='ko') # 문자열 news를 위한 한국어 음성 합성\n",
        "tts.save(\"/content/news_Son.mp3\")"
      ],
      "metadata": {
        "colab": {
          "base_uri": "https://localhost:8080/"
        },
        "id": "69cfxgF7PqDn",
        "outputId": "e3972704-403c-4340-9e33-0eced3d3d70d"
      },
      "execution_count": null,
      "outputs": [
        {
          "output_type": "stream",
          "name": "stdout",
          "text": [
            "경기가 열린 곳은? 런던 스타디움\n",
            "경기가 열린 시간은? 12월 12일 오후 7시\n",
            "상대 팀은? 맨체스터 유나이티드\n",
            "손흥민은 몇 골을 넣었나요? 2\n",
            "도움은 몇 개인가요? 1\n",
            "손흥민 팀이 넣은 골 수는?4\n",
            "상대 팀이 넣은 골 수는?2\n",
            "[프리미어 리그 속보(2022-09-27 00:21:32.348350)]\n",
            "손흥민 선수는 런던 스타디움에서 12월 12일 오후 7시에 열린 경기에 출전하였습니다. 상대 팀은 맨체스터 유나이티드입니다. 손흥민 선수의 팀이 4골을 넣어 2골을 넣은 상대 팀을 꺾었습니다.손흥민 선수는 2골에 도움 1개로 승리를 크게 이끌었습니다.\n",
            "Looking in indexes: https://pypi.org/simple, https://us-python.pkg.dev/colab-wheels/public/simple/\n",
            "Requirement already satisfied: gtts in /usr/local/lib/python3.7/dist-packages (2.2.4)\n",
            "Requirement already satisfied: playsound in /usr/local/lib/python3.7/dist-packages (1.3.0)\n",
            "Requirement already satisfied: requests in /usr/local/lib/python3.7/dist-packages (from gtts) (2.23.0)\n",
            "Requirement already satisfied: six in /usr/local/lib/python3.7/dist-packages (from gtts) (1.15.0)\n",
            "Requirement already satisfied: click in /usr/local/lib/python3.7/dist-packages (from gtts) (7.1.2)\n",
            "Requirement already satisfied: urllib3!=1.25.0,!=1.25.1,<1.26,>=1.21.1 in /usr/local/lib/python3.7/dist-packages (from requests->gtts) (1.24.3)\n",
            "Requirement already satisfied: certifi>=2017.4.17 in /usr/local/lib/python3.7/dist-packages (from requests->gtts) (2022.6.15)\n",
            "Requirement already satisfied: chardet<4,>=3.0.2 in /usr/local/lib/python3.7/dist-packages (from requests->gtts) (3.0.4)\n",
            "Requirement already satisfied: idna<3,>=2.5 in /usr/local/lib/python3.7/dist-packages (from requests->gtts) (2.10)\n"
          ]
        }
      ]
    },
    {
      "cell_type": "code",
      "source": [
        "# 실습 1. 난수 2개를 더하는 프로그램을 [0,1] 범위의 실수 난수를 생성해서 더하는 프로그램으로 수정하시오.\n",
        "import random\n",
        "num1 = random.random() # 0 이상 1 미만의 실수 난수 생성\n",
        "num2 = random.random()\n",
        "print(num1 + num2)"
      ],
      "metadata": {
        "colab": {
          "base_uri": "https://localhost:8080/"
        },
        "id": "t-PT0TwFQMO4",
        "outputId": "484869bf-387a-4d5e-b80b-b52d7b90eeed"
      },
      "execution_count": null,
      "outputs": [
        {
          "output_type": "stream",
          "name": "stdout",
          "text": [
            "0.6561707829168287\n"
          ]
        }
      ]
    },
    {
      "cell_type": "code",
      "source": [
        "# 실습 2. 컴퓨터의 지능 셈 속도 코드를 [0,1] 범위의 실수 난수를 생성하여 더하는 연산을 1억 번 반복하는 프로그램으로 수정하고 걸리는 시간을 측정하시오\n",
        "import time\n",
        "import random\n",
        "\n",
        "start = time.time()\n",
        "sum = 0\n",
        "for i in range(1, 100000001):\n",
        "  sum = sum + random.random()\n",
        "\n",
        "end = time.time()\n",
        "\n",
        "print('0~1 범위의 실수 난수를 1억번 더한 결과는: ', sum)\n",
        "print('소요 시간은', end-start, '초입니다.')"
      ],
      "metadata": {
        "colab": {
          "base_uri": "https://localhost:8080/"
        },
        "id": "V2NpOqzwVdMJ",
        "outputId": "1fcb7cfd-205b-4523-e88f-3b99cd9fc607"
      },
      "execution_count": null,
      "outputs": [
        {
          "output_type": "stream",
          "name": "stdout",
          "text": [
            "0~1 범위의 실수 난수를 1억번 더한 결과는:  50001097.1854936\n",
            "소요 시간은 18.44319725036621 초입니다.\n"
          ]
        }
      ]
    },
    {
      "cell_type": "code",
      "source": [
        "# 실습 3. 인공지능 기자 코드를\n",
        "# 1) 기사 입력시간이 분 단위까지만 기록되도록 수정하시오.\n",
        "# 2) 손흥민 선수의 활약 내용이 승리와 패배를 고려하도록 수정하시오\n",
        "\n",
        "from datetime import datetime\n",
        "import random\n",
        "\n",
        "wording = [\"상대 팀을 이겼습니다.\", \"상대를 대상으로 통쾌한 승리를 거머쥐었습니다.\", \"상대 팀을 꺾었습니다.\"]\n",
        "\n",
        "# 경기 결과 입력 받는 곳\n",
        "place = input(\"경기가 열린 곳은? \")\n",
        "time = input(\"경기가 열린 시간은? \")\n",
        "opponent = input(\"상대 팀은? \")\n",
        "goals = input(\"손흥민은 몇 골을 넣었나요? \")\n",
        "aids = input(\"도움은 몇 개인가요? \")\n",
        "score_me = input(\"손흥민 팀이 넣은 골 수는?\")\n",
        "score_you = input(\"상대 팀이 넣은 골 수는?\")\n",
        "\n",
        "# 기사 작성하는 곳\n",
        "news = \"[프리미어 리그 속보(\" + str(datetime.now())[:16] + \")]\\n\"\n",
        "news = news + \"손흥민 선수는 \" + place + \"에서 \" + time + \"에 열린 경기에 출전하였습니다. \"\n",
        "news = news + \"상대 팀은 \" + opponent + \"입니다. \"\n",
        "\n",
        "if score_me > score_you:\n",
        "  news = news + \"손흥민 선수의 팀이 \" + score_me + \"골을 넣어 \" + score_you + \"골을 넣은 \" + random.choice(wording)\n",
        "elif score_me < score_you:\n",
        "  news = news + \"손흥민 선수의 팀이 \" + score_me + \"골을 넣어 \" + score_you  + \"골을 넣은 상대팀에게 졌습니다. \"\n",
        "else:\n",
        "  news = news + \"두 팀은 \" + score_me + \"대\" + score_you + \"로 비겼습니다.\"\n",
        "\n",
        "if int(goals)>0 and int(aids)>0:\n",
        "  news = news + \"손흥민 선수는 \" + goals + \"골에 도움 \" + aids + \"개로 \"\n",
        "  if score_me > score_you:\n",
        "    news += \"승리를 크게 이끌었습니다.\"\n",
        "  elif score_me < score_you:\n",
        "    news += \"비록 팀은 패배했지만 크게 공헌하였습니다.\"\n",
        "  else:\n",
        "    news += \"크게 공헌하였습니다.\"\n",
        "elif int(goals)>0 and int(aids)==0:\n",
        "  news = news + \"손흥민 선수는 \" + goals + \"골로 \"\n",
        "  if score_me > score_you:\n",
        "    news += \"승리를 이끌었습니다.\"\n",
        "  elif score_me < score_you:\n",
        "    news += \"비록 팀은 패배했지만 크게 공헌하였습니다.\"\n",
        "  else:\n",
        "    news += \"크게 공헌하였습니다.\"\n",
        "elif int(goals)==0 and int(aids)>0:\n",
        "  news = news + \"손흥민 선수는 골은 없지만 도움 \" + aids + \"개로 \"\n",
        "  if score_me > score_you:\n",
        "    news += \"승리하는데 공헌하였습니다.\"\n",
        "  elif score_me < score_you:\n",
        "    news += \"비록 팀은 패배했지만 크게 공헌하였습니다.\"\n",
        "  else:\n",
        "    news += \"크게 공헌하였습니다.\"\n",
        "else:\n",
        "  news = news + \"아쉽게도 이번 경기에서 손흥민의 발끝은 침묵을 지켰습니다.\"\n",
        "\n",
        "print(news)\n",
        "\n",
        "# 음성으로 들려주는 곳\n",
        "!pip install gtts playsound\n",
        "from gtts import gTTS\n",
        "import playsound\n",
        "\n",
        "tts = gTTS(text = news, lang='ko') # 문자열 news를 위한 한국어 음성 합성\n",
        "tts.save(\"/content/news_Son.mp3\")"
      ],
      "metadata": {
        "colab": {
          "base_uri": "https://localhost:8080/"
        },
        "id": "JdeCyA_pVwe3",
        "outputId": "7d4127b4-4c55-4d19-adfc-78119e970077"
      },
      "execution_count": null,
      "outputs": [
        {
          "output_type": "stream",
          "name": "stdout",
          "text": [
            "경기가 열린 곳은? 런던 스타디움\n",
            "경기가 열린 시간은? 12월 12일 오후 7시\n",
            "상대 팀은? 맨체스터 유나이티드\n",
            "손흥민은 몇 골을 넣었나요? 2\n",
            "도움은 몇 개인가요? 1\n",
            "손흥민 팀이 넣은 골 수는?4\n",
            "상대 팀이 넣은 골 수는?5\n",
            "[프리미어 리그 속보(2022-09-27 00:38)]\n",
            "손흥민 선수는 런던 스타디움에서 12월 12일 오후 7시에 열린 경기에 출전하였습니다. 상대 팀은 맨체스터 유나이티드입니다. 손흥민 선수의 팀이 4골을 넣어 5골을 넣은 상대팀에게 졌습니다. 손흥민 선수는 2골에 도움 1개로 비록 팀은 패배했지만 크게 공헌하였습니다.\n",
            "Looking in indexes: https://pypi.org/simple, https://us-python.pkg.dev/colab-wheels/public/simple/\n",
            "Requirement already satisfied: gtts in /usr/local/lib/python3.7/dist-packages (2.2.4)\n",
            "Requirement already satisfied: playsound in /usr/local/lib/python3.7/dist-packages (1.3.0)\n",
            "Requirement already satisfied: six in /usr/local/lib/python3.7/dist-packages (from gtts) (1.15.0)\n",
            "Requirement already satisfied: click in /usr/local/lib/python3.7/dist-packages (from gtts) (7.1.2)\n",
            "Requirement already satisfied: requests in /usr/local/lib/python3.7/dist-packages (from gtts) (2.23.0)\n",
            "Requirement already satisfied: chardet<4,>=3.0.2 in /usr/local/lib/python3.7/dist-packages (from requests->gtts) (3.0.4)\n",
            "Requirement already satisfied: idna<3,>=2.5 in /usr/local/lib/python3.7/dist-packages (from requests->gtts) (2.10)\n",
            "Requirement already satisfied: urllib3!=1.25.0,!=1.25.1,<1.26,>=1.21.1 in /usr/local/lib/python3.7/dist-packages (from requests->gtts) (1.24.3)\n",
            "Requirement already satisfied: certifi>=2017.4.17 in /usr/local/lib/python3.7/dist-packages (from requests->gtts) (2022.6.15)\n"
          ]
        }
      ]
    }
  ]
}